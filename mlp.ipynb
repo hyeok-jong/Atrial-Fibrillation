{
 "cells": [
  {
   "cell_type": "code",
   "execution_count": 1,
   "metadata": {},
   "outputs": [],
   "source": [
    "import torch\n",
    "import numpy as np\n",
    "import pickle\n",
    "import matplotlib.pyplot as plt\n",
    "\n",
    "from torchvision import transforms\n",
    "from scipy.io import loadmat\n",
    "from tqdm import tqdm"
   ]
  },
  {
   "cell_type": "code",
   "execution_count": 2,
   "metadata": {},
   "outputs": [],
   "source": [
    "class Randomcrop():\n",
    "    def __init__(self, lenth : int):\n",
    "        self.lenth = lenth\n",
    "\n",
    "    def __call__(self, array : torch.tensor or np.array):\n",
    "        total_len = array.shape[0]\n",
    "        start = np.random.randint(low = 0, high = total_len - self.lenth)\n",
    "        \n",
    "        end = start + self.lenth\n",
    "        return array[start:end]\n",
    "\n",
    "class Tensor_and_Norm():\n",
    "    def __call__(self, array : np.array):\n",
    "        tensor = torch.FloatTensor(array)\n",
    "        return torch.nn.functional.normalize(tensor, dim = 0)"
   ]
  },
  {
   "cell_type": "code",
   "execution_count": 3,
   "metadata": {},
   "outputs": [],
   "source": [
    "class ECG_dataset(torch.utils.data.Dataset):\n",
    "    def __init__(self, lenth, pickle_dir):\n",
    "        self.pickle = pickle.load(open(pickle_dir, 'rb'))\n",
    "        self.mat_dir = list(self.pickle.keys())\n",
    "        self.transform = transforms.Compose([\n",
    "                                            Tensor_and_Norm(),\n",
    "                                            Randomcrop(lenth)\n",
    "                                            ])\n",
    "    def __len__(self):\n",
    "        return len(self.pickle.keys())\n",
    "    \n",
    "    def __getitem__(self, idx):\n",
    "        ecg_dir = self.mat_dir[idx]\n",
    "        ecg = loadmat(ecg_dir)['val'].squeeze()\n",
    "        ecg = self.transform(ecg)\n",
    "        cls = torch.FloatTensor([self.pickle[ecg_dir]])\n",
    "        return ecg, cls\n",
    "        \n",
    "ecg_dataset = ECG_dataset(lenth = 300*10, pickle_dir = './train_dict.pickle')\n",
    "ecg_loader = torch.utils.data.DataLoader(ecg_dataset, batch_size = 4000, shuffle = True,\n",
    "                                        num_workers = 20, pin_memory = True)\n",
    "\n"
   ]
  },
  {
   "cell_type": "code",
   "execution_count": 4,
   "metadata": {},
   "outputs": [],
   "source": [
    "class mlp_model(torch.nn.Module):\n",
    "    def __init__(self, num_blocks, sequen_size):\n",
    "        super().__init__()\n",
    "        self.layers = self.make_blocks(num_blocks, sequen_size)\n",
    "\n",
    "    def make_blocks(self, num_blocks, sequen_size):\n",
    "        layers = [  torch.nn.Linear(in_features = sequen_size, out_features = 1024),\n",
    "                    torch.nn.LayerNorm(1024),\n",
    "                    torch.nn.ReLU(),\n",
    "                    torch.nn.Dropout(p = 0.5)]\n",
    "        for i in range(num_blocks-2):\n",
    "            layers += [ torch.nn.Linear(in_features = 1024, out_features = 1024),\n",
    "                        torch.nn.LayerNorm(1024),\n",
    "                        torch.nn.ReLU(),\n",
    "                        torch.nn.Dropout(p = 0.5)]\n",
    "        layers += [ torch.nn.Linear(in_features = 1024, out_features = 4),\n",
    "                    torch.nn.LayerNorm(4)]\n",
    "        return torch.nn.Sequential(*layers)\n",
    "\n",
    "    def forward(self, input_batch):\n",
    "        return self.layers(input_batch)"
   ]
  },
  {
   "cell_type": "code",
   "execution_count": null,
   "metadata": {},
   "outputs": [],
   "source": []
  },
  {
   "cell_type": "code",
   "execution_count": 5,
   "metadata": {},
   "outputs": [
    {
     "name": "stderr",
     "output_type": "stream",
     "text": [
      "100%|██████████| 100/100 [04:01<00:00,  2.41s/it]\n"
     ]
    }
   ],
   "source": [
    "epochs = 100\n",
    "device = 'cuda:0'\n",
    "model = mlp_model(50,300*10).to(device)\n",
    "loss = torch.nn.CrossEntropyLoss()\n",
    "optimizer = torch.optim.Adam(model.parameters(), lr = 0.00001)\n",
    "\n",
    "loss_list = list()\n",
    "for epoch in tqdm(range(epochs)):\n",
    "    for data in ecg_loader:\n",
    "        input = data[0].to(device)\n",
    "        target = data[1].to(device).squeeze().long()\n",
    "        output = model(input)\n",
    "        train_loss = loss(output, target)\n",
    "        optimizer.zero_grad()\n",
    "        train_loss.backward()\n",
    "        optimizer.step()\n",
    "        loss_list.append(train_loss)\n",
    "    "
   ]
  },
  {
   "cell_type": "code",
   "execution_count": 6,
   "metadata": {},
   "outputs": [
    {
     "data": {
      "text/plain": [
       "[<matplotlib.lines.Line2D at 0x7f42dc571810>]"
      ]
     },
     "execution_count": 6,
     "metadata": {},
     "output_type": "execute_result"
    },
    {
     "data": {
      "image/png": "[encoded data removed]",
      "text/plain": [
       "<Figure size 432x288 with 1 Axes>"
      ]
     },
     "metadata": {
      "needs_background": "light"
     },
     "output_type": "display_data"
    }
   ],
   "source": [
    "plt.plot([i.cpu().detach().numpy() for i in loss_list])"
   ]
  },
  {
   "cell_type": "code",
   "execution_count": 7,
   "metadata": {},
   "outputs": [
    {
     "data": {
      "text/plain": [
       "[array(1.6169871, dtype=float32),\n",
       " array(1.5155858, dtype=float32),\n",
       " array(1.4672112, dtype=float32),\n",
       " array(1.384324, dtype=float32),\n",
       " array(1.3356369, dtype=float32),\n",
       " array(1.2868825, dtype=float32),\n",
       " array(1.2556262, dtype=float32),\n",
       " array(1.2247393, dtype=float32),\n",
       " array(1.1900278, dtype=float32),\n",
       " array(1.1531363, dtype=float32)]"
      ]
     },
     "execution_count": 7,
     "metadata": {},
     "output_type": "execute_result"
    }
   ],
   "source": [
    "[i.cpu().detach().numpy() for i in loss_list][:10]"
   ]
  },
  {
   "cell_type": "code",
   "execution_count": null,
   "metadata": {},
   "outputs": [],
   "source": []
  }
 ],
 "metadata": {
  "kernelspec": {
   "display_name": "hyeokjong2",
   "language": "python",
   "name": "python3"
  },
  "language_info": {
   "codemirror_mode": {
    "name": "ipython",
    "version": 3
   },
   "file_extension": ".py",
   "mimetype": "text/x-python",
   "name": "python",
   "nbconvert_exporter": "python",
   "pygments_lexer": "ipython3",
   "version": "3.7.9 (default, Aug 31 2020, 12:42:55) \n[GCC 7.3.0]"
  },
  "orig_nbformat": 4,
  "vscode": {
   "interpreter": {
    "hash": "1c3c7152b532fd28c217869295ba0fbb2b6716303accc13f15426c445bfbdae4"
   }
  }
 },
 "nbformat": 4,
 "nbformat_minor": 2
}

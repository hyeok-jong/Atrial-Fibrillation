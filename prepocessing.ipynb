{
 "cells": [
  {
   "cell_type": "code",
   "execution_count": 1,
   "metadata": {},
   "outputs": [],
   "source": [
    "import numpy as np\n",
    "import os\n",
    "import matplotlib.pyplot as plt\n",
    "import ecg_plot\n",
    "\n",
    "from scipy.io import loadmat\n",
    "from fastai.vision.all import Path\n",
    "\n",
    "root_dir = '/home/mskang/afib/2017cinc/data'\n",
    "train_dir = root_dir + '/training'\n",
    "valid_dir = root_dir + '/validation'"
   ]
  },
  {
   "cell_type": "code",
   "execution_count": 2,
   "metadata": {},
   "outputs": [
    {
     "data": {
      "text/plain": [
       "(Path('/home/mskang/afib/2017cinc/data/training/A00/A00001.mat'),\n",
       " Path('/home/mskang/afib/2017cinc/data/validation/A00001.mat'))"
      ]
     },
     "execution_count": 2,
     "metadata": {},
     "output_type": "execute_result"
    }
   ],
   "source": [
    "train_mats = [i for i in list(Path(train_dir).rglob('*.mat')) if 'ipynb' not in str(i)]\n",
    "valid_mats = [i for i in list(Path(valid_dir).rglob('*.mat')) if 'ipynb' not in str(i)]\n",
    "train_mats[0], valid_mats[0]"
   ]
  },
  {
   "cell_type": "code",
   "execution_count": 3,
   "metadata": {},
   "outputs": [
    {
     "data": {
      "text/plain": [
       "'A00/A00001'"
      ]
     },
     "execution_count": 3,
     "metadata": {},
     "output_type": "execute_result"
    }
   ],
   "source": [
    "str(train_mats[0])[41:51]"
   ]
  },
  {
   "cell_type": "code",
   "execution_count": 20,
   "metadata": {},
   "outputs": [],
   "source": [
    "for i in train_mats:\n",
    "    if 3000 > len(loadmat(i)['val'].squeeze()):\n",
    "        train_mats.remove(i)"
   ]
  },
  {
   "cell_type": "code",
   "execution_count": null,
   "metadata": {},
   "outputs": [],
   "source": []
  },
  {
   "cell_type": "code",
   "execution_count": 4,
   "metadata": {},
   "outputs": [],
   "source": [
    "labels = open('/home/mskang/afib/2017cinc/data/training/REFERENCE-v3.csv').readlines()"
   ]
  },
  {
   "cell_type": "code",
   "execution_count": 9,
   "metadata": {},
   "outputs": [],
   "source": [
    "labels_dict = dict()\n",
    "for i in labels:\n",
    "    det = i.rfind(',')\n",
    "    name = i[:det]\n",
    "    cls = i[det+1:det+2]\n",
    "    labels_dict[name] = cls"
   ]
  },
  {
   "cell_type": "code",
   "execution_count": 11,
   "metadata": {},
   "outputs": [],
   "source": [
    "train_dict = dict()\n",
    "for dirs in train_mats:\n",
    "    name = str(dirs)[41:51]\n",
    "    if labels_dict[name] == 'N':\n",
    "        cls = 0\n",
    "    elif labels_dict[name] == 'O':\n",
    "        cls = 1\n",
    "    elif labels_dict[name] == 'A':\n",
    "        cls = 2\n",
    "    elif labels_dict[name] == '~':\n",
    "        cls = 3\n",
    "    else:print('stop')\n",
    "    train_dict[str(dirs)] = cls"
   ]
  },
  {
   "cell_type": "code",
   "execution_count": 14,
   "metadata": {},
   "outputs": [],
   "source": [
    "import pickle\n",
    "pickle.dump(train_dict, open('train_dict.pickle', 'wb'), protocol=pickle.HIGHEST_PROTOCOL)"
   ]
  },
  {
   "cell_type": "code",
   "execution_count": null,
   "metadata": {},
   "outputs": [],
   "source": []
  }
 ],
 "metadata": {
  "kernelspec": {
   "display_name": "hyeokjong2",
   "language": "python",
   "name": "python3"
  },
  "language_info": {
   "codemirror_mode": {
    "name": "ipython",
    "version": 3
   },
   "file_extension": ".py",
   "mimetype": "text/x-python",
   "name": "python",
   "nbconvert_exporter": "python",
   "pygments_lexer": "ipython3",
   "version": "3.7.9 (default, Aug 31 2020, 12:42:55) \n[GCC 7.3.0]"
  },
  "orig_nbformat": 4,
  "vscode": {
   "interpreter": {
    "hash": "1c3c7152b532fd28c217869295ba0fbb2b6716303accc13f15426c445bfbdae4"
   }
  }
 },
 "nbformat": 4,
 "nbformat_minor": 2
}

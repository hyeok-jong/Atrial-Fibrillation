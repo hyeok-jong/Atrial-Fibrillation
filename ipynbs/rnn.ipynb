{
 "cells": [
  {
   "cell_type": "code",
   "execution_count": 1,
   "metadata": {},
   "outputs": [],
   "source": [
    "import torch\n",
    "import numpy as np\n",
    "import pickle\n",
    "import matplotlib.pyplot as plt\n",
    "\n",
    "from torchvision import transforms\n",
    "from scipy.io import loadmat\n",
    "from tqdm import tqdm"
   ]
  },
  {
   "cell_type": "code",
   "execution_count": 2,
   "metadata": {},
   "outputs": [],
   "source": [
    "class Randomcrop():\n",
    "    def __init__(self, length : int):\n",
    "        self.length = length\n",
    "\n",
    "    def __call__(self, array : torch.tensor or np.array):\n",
    "        total_len = array.shape[0]\n",
    "        start = np.random.randint(low = 0, high = total_len - self.length)\n",
    "        \n",
    "        end = start + self.length\n",
    "        return array[start:end]\n",
    "\n",
    "class Tensor_and_Norm():\n",
    "    def __call__(self, array : np.array):\n",
    "        tensor = torch.FloatTensor(array)\n",
    "        return torch.nn.functional.normalize(tensor, dim = 0)"
   ]
  },
  {
   "cell_type": "code",
   "execution_count": 3,
   "metadata": {},
   "outputs": [],
   "source": [
    "class ECG_dataset(torch.utils.data.Dataset):\n",
    "    def __init__(self, length, pickle_dir):\n",
    "        self.pickle = pickle.load(open(pickle_dir, 'rb'))\n",
    "        self.mat_dir = list(self.pickle.keys())\n",
    "        self.transform = transforms.Compose([\n",
    "                                            Tensor_and_Norm(),\n",
    "                                            Randomcrop(length)\n",
    "                                            ])\n",
    "    def __len__(self):\n",
    "        return len(self.pickle.keys())\n",
    "    \n",
    "    def __getitem__(self, idx):\n",
    "        '''\n",
    "        ecg.shape == batch*length\n",
    "        '''\n",
    "        ecg_dir = self.mat_dir[idx]\n",
    "        ecg = loadmat(ecg_dir)['val'].squeeze()\n",
    "        ecg = self.transform(ecg)\n",
    "        cls = torch.FloatTensor([self.pickle[ecg_dir]])\n",
    "\n",
    "        return ecg, cls\n",
    "        \n",
    "ecg_dataset = ECG_dataset(length = 300*10, pickle_dir = './train_dict.pickle')\n",
    "ecg_loader = torch.utils.data.DataLoader(ecg_dataset, batch_size = 512, shuffle = True,\n",
    "                                        num_workers = 20, pin_memory = True, drop_last = True)\n",
    "\n",
    "# https://discuss.pytorch.org/t/how-to-handle-last-batch-in-lstm-hidden-state/40858"
   ]
  },
  {
   "cell_type": "code",
   "execution_count": 4,
   "metadata": {},
   "outputs": [],
   "source": [
    "class rnn_model(torch.nn.Module):\n",
    "    def __init__(self, input_size, hidden_size, num_layers = 2):\n",
    "        super().__init__()\n",
    "        self.rnn = torch.nn.RNN(\n",
    "            input_size = input_size, \n",
    "            hidden_size = hidden_size, \n",
    "            num_layers = num_layers, \n",
    "            batch_first = True,\n",
    "            nonlinearity = 'tanh',\n",
    "            bidirectional = False)\n",
    "            \n",
    "        self.classifier = torch.nn.Sequential(\n",
    "            *[  torch.nn.Linear(in_features = 60000, out_features = 1024),\n",
    "                torch.nn.LayerNorm(1024),\n",
    "                torch.nn.ReLU(),\n",
    "                torch.nn.Dropout(p = 0.5),\n",
    "                torch.nn.Linear(in_features = 1024, out_features = 4),\n",
    "                torch.nn.LayerNorm(4)\n",
    "                ]\n",
    "        )\n",
    "\n",
    "    def forward(self, h0, input_batch):\n",
    "        \n",
    "        features, _ = self.rnn(input_batch, h0)\n",
    "        features = torch.flatten(features, start_dim = 1)\n",
    "        logits = self.classifier(features)\n",
    "        return logits"
   ]
  },
  {
   "cell_type": "code",
   "execution_count": 5,
   "metadata": {},
   "outputs": [],
   "source": [
    "def batch_acc(output, target):\n",
    "    correct = 0\n",
    "    batch_size = output.shape[0]\n",
    "    for i in range(batch_size):\n",
    "        if torch.argmax(output[i]).item() == target[i].item():\n",
    "            correct += 1\n",
    "    return correct/batch_size"
   ]
  },
  {
   "cell_type": "code",
   "execution_count": 6,
   "metadata": {},
   "outputs": [
    {
     "name": "stderr",
     "output_type": "stream",
     "text": [
      "100%|██████████| 20/20 [02:20<00:00,  7.04s/it]\n"
     ]
    }
   ],
   "source": [
    "epochs = 20\n",
    "device = 'cuda:0'\n",
    "input_size = 1\n",
    "hidden_size = 20\n",
    "num_layers = 5\n",
    "model = rnn_model(input_size, hidden_size, num_layers = num_layers).to(device)\n",
    "loss = torch.nn.CrossEntropyLoss()\n",
    "optimizer = torch.optim.Adam(model.parameters(), lr = 0.00001)\n",
    "h0 = torch.zeros(num_layers,512,hidden_size).to(device)\n",
    "loss_list = list()\n",
    "acc_list = list()\n",
    "for epoch in tqdm(range(epochs)):\n",
    "    for data in ecg_loader:\n",
    "        input = data[0].to(device).unsqueeze(dim = 2)\n",
    "        target = data[1].to(device).squeeze().long()\n",
    "        \n",
    "        output = model(h0,input)\n",
    "        \n",
    "        train_loss = loss(output, target)\n",
    "        optimizer.zero_grad()\n",
    "        train_loss.backward()\n",
    "        optimizer.step()\n",
    "        loss_list.append(train_loss)\n",
    "        acc_list.append(batch_acc(output, target))\n",
    "    "
   ]
  },
  {
   "cell_type": "code",
   "execution_count": 7,
   "metadata": {},
   "outputs": [
    {
     "data": {
      "text/plain": [
       "[<matplotlib.lines.Line2D at 0x7f479038ff10>]"
      ]
     },
     "execution_count": 7,
     "metadata": {},
     "output_type": "execute_result"
    },
    {
     "data": {
      "image/png": "[encoded data removed]",
      "text/plain": [
       "<Figure size 432x288 with 1 Axes>"
      ]
     },
     "metadata": {
      "needs_background": "light"
     },
     "output_type": "display_data"
    }
   ],
   "source": [
    "plt.plot([i.cpu().detach().numpy() for i in loss_list])\n",
    "plt.plot(acc_list)"
   ]
  },
  {
   "cell_type": "code",
   "execution_count": 17,
   "metadata": {},
   "outputs": [
    {
     "data": {
      "text/plain": [
       "[0.322265625,\n",
       " 0.5625,\n",
       " 0.578125,\n",
       " 0.623046875,\n",
       " 0.560546875,\n",
       " 0.611328125,\n",
       " 0.55859375,\n",
       " 0.6015625,\n",
       " 0.6171875,\n",
       " 0.591796875]"
      ]
     },
     "execution_count": 17,
     "metadata": {},
     "output_type": "execute_result"
    }
   ],
   "source": [
    "acc_list[:10]"
   ]
  },
  {
   "cell_type": "code",
   "execution_count": 9,
   "metadata": {},
   "outputs": [
    {
     "data": {
      "text/plain": [
       "tensor(0, device='cuda:0')"
      ]
     },
     "execution_count": 9,
     "metadata": {},
     "output_type": "execute_result"
    }
   ],
   "source": [
    "torch.argmax(output[0])"
   ]
  },
  {
   "cell_type": "code",
   "execution_count": null,
   "metadata": {},
   "outputs": [],
   "source": []
  },
  {
   "cell_type": "code",
   "execution_count": 10,
   "metadata": {},
   "outputs": [
    {
     "data": {
      "text/plain": [
       "True"
      ]
     },
     "execution_count": 10,
     "metadata": {},
     "output_type": "execute_result"
    }
   ],
   "source": [
    "target[0].item() == torch.argmax(output[0]).item()"
   ]
  },
  {
   "cell_type": "code",
   "execution_count": 11,
   "metadata": {},
   "outputs": [
    {
     "data": {
      "text/plain": [
       "0.609375"
      ]
     },
     "execution_count": 11,
     "metadata": {},
     "output_type": "execute_result"
    }
   ],
   "source": [
    "batch_acc(output, target)"
   ]
  },
  {
   "cell_type": "code",
   "execution_count": 12,
   "metadata": {},
   "outputs": [
    {
     "data": {
      "text/plain": [
       "[array(1.6085763, dtype=float32),\n",
       " array(1.1773968, dtype=float32),\n",
       " array(1.1087964, dtype=float32),\n",
       " array(1.0379381, dtype=float32),\n",
       " array(1.147873, dtype=float32),\n",
       " array(1.048376, dtype=float32),\n",
       " array(1.1263019, dtype=float32),\n",
       " array(1.0451868, dtype=float32),\n",
       " array(1.0033681, dtype=float32),\n",
       " array(1.066449, dtype=float32)]"
      ]
     },
     "execution_count": 12,
     "metadata": {},
     "output_type": "execute_result"
    }
   ],
   "source": [
    "[i.cpu().detach().numpy() for i in loss_list][:10]"
   ]
  },
  {
   "cell_type": "code",
   "execution_count": 13,
   "metadata": {},
   "outputs": [
    {
     "name": "stdout",
     "output_type": "stream",
     "text": [
      "weight_ih_l0 torch.Size([4, 7])\n",
      "weight_hh_l0 torch.Size([4, 4])\n",
      "bias_ih_l0 torch.Size([4])\n",
      "bias_hh_l0 torch.Size([4])\n",
      "weight_ih_l1 torch.Size([4, 4])\n",
      "weight_hh_l1 torch.Size([4, 4])\n",
      "bias_ih_l1 torch.Size([4])\n",
      "bias_hh_l1 torch.Size([4])\n",
      "input : torch.Size([5, 3, 7])  //  h0 : torch.Size([2, 3, 4])\n",
      "output : torch.Size([5, 3, 4])  //  hn : torch.Size([2, 3, 4])\n"
     ]
    }
   ],
   "source": [
    "import torch\n",
    "\n",
    "batch_size = 3\n",
    "sesquence = 5\n",
    "input_size = 7\n",
    "num_layers = 2\n",
    "hidden_size = 4\n",
    "\n",
    "input = torch.randn(sesquence, batch_size, input_size)\n",
    "h0 = torch.randn(num_layers, batch_size, hidden_size)\n",
    "\n",
    "rnn = torch.nn.RNN(input_size = input_size, hidden_size = hidden_size, num_layers = num_layers, batch_first = False)\n",
    "\n",
    "for name , param in rnn.named_parameters():\n",
    "    print(name, param.shape)\n",
    "\n",
    "print(f'input : {input.shape}  //  h0 : {h0.shape}')\n",
    "output, hn = rnn(input, h0)\n",
    "print(f'output : {output.shape}  //  hn : {hn.shape}')"
   ]
  },
  {
   "cell_type": "code",
   "execution_count": 14,
   "metadata": {},
   "outputs": [
    {
     "name": "stdout",
     "output_type": "stream",
     "text": [
      "weight_ih_l0 torch.Size([400, 7])\n",
      "weight_hh_l0 torch.Size([400, 400])\n",
      "bias_ih_l0 torch.Size([400])\n",
      "bias_hh_l0 torch.Size([400])\n",
      "weight_ih_l1 torch.Size([400, 400])\n",
      "weight_hh_l1 torch.Size([400, 400])\n",
      "bias_ih_l1 torch.Size([400])\n",
      "bias_hh_l1 torch.Size([400])\n",
      "input : torch.Size([5000, 3, 7])  //  h0 : torch.Size([2, 3, 400])\n",
      "output : torch.Size([5000, 3, 400])  //  hn : torch.Size([2, 3, 400])\n"
     ]
    }
   ],
   "source": [
    "import torch\n",
    "\n",
    "batch_size = 3\n",
    "sesquence = 5000\n",
    "input_size = 7\n",
    "num_layers = 2\n",
    "hidden_size = 400\n",
    "\n",
    "input = torch.randn(sesquence, batch_size, input_size)\n",
    "h0 = torch.randn(num_layers, batch_size, hidden_size)\n",
    "\n",
    "rnn = torch.nn.RNN(input_size = input_size, hidden_size = hidden_size, num_layers = num_layers, batch_first = False)\n",
    "\n",
    "for name , param in rnn.named_parameters():\n",
    "    print(name, param.shape)\n",
    "\n",
    "print(f'input : {input.shape}  //  h0 : {h0.shape}')\n",
    "output, hn = rnn(input, h0)\n",
    "print(f'output : {output.shape}  //  hn : {hn.shape}')"
   ]
  },
  {
   "cell_type": "code",
   "execution_count": 15,
   "metadata": {},
   "outputs": [
    {
     "data": {
      "text/plain": [
       "tensor([[[-0.0143,  0.1410,  0.0486,  ..., -0.0728,  0.1508,  0.0805],\n",
       "         [ 0.0367,  0.1143,  0.0452,  ...,  0.1085, -0.0165,  0.0078],\n",
       "         [-0.1132,  0.0425,  0.0727,  ..., -0.0457,  0.0765, -0.0054]]],\n",
       "       grad_fn=<UnsqueezeBackward0>)"
      ]
     },
     "execution_count": 15,
     "metadata": {},
     "output_type": "execute_result"
    }
   ],
   "source": [
    "output[-1].unsqueeze(dim = 0)"
   ]
  },
  {
   "cell_type": "code",
   "execution_count": 16,
   "metadata": {},
   "outputs": [
    {
     "data": {
      "text/plain": [
       "tensor([[[-0.0540, -0.1535,  0.0580,  ..., -0.0255,  0.1007,  0.0551],\n",
       "         [ 0.0462, -0.0488, -0.0095,  ...,  0.1287, -0.0189,  0.0955],\n",
       "         [-0.0530,  0.0258,  0.0165,  ...,  0.0416, -0.0599,  0.1078]],\n",
       "\n",
       "        [[-0.0143,  0.1410,  0.0486,  ..., -0.0728,  0.1508,  0.0805],\n",
       "         [ 0.0367,  0.1143,  0.0452,  ...,  0.1085, -0.0165,  0.0078],\n",
       "         [-0.1132,  0.0425,  0.0727,  ..., -0.0457,  0.0765, -0.0054]]],\n",
       "       grad_fn=<StackBackward>)"
      ]
     },
     "execution_count": 16,
     "metadata": {},
     "output_type": "execute_result"
    }
   ],
   "source": [
    "hn"
   ]
  },
  {
   "cell_type": "code",
   "execution_count": 3,
   "metadata": {},
   "outputs": [
    {
     "data": {
      "text/plain": [
       "LSTM(1, 1, batch_first=True)"
      ]
     },
     "execution_count": 3,
     "metadata": {},
     "output_type": "execute_result"
    }
   ],
   "source": [
    "import torch\n",
    "torch.nn.LSTM(\n",
    "            input_size = 1, \n",
    "            hidden_size = 1, \n",
    "            num_layers = 1, \n",
    "            batch_first = True,\n",
    "            nonlinearity = 'relu',\n",
    "            bidirectional = False)\n",
    "            "
   ]
  },
  {
   "cell_type": "code",
   "execution_count": null,
   "metadata": {},
   "outputs": [],
   "source": []
  }
 ],
 "metadata": {
  "kernelspec": {
   "display_name": "hyeokjong2",
   "language": "python",
   "name": "python3"
  },
  "language_info": {
   "codemirror_mode": {
    "name": "ipython",
    "version": 3
   },
   "file_extension": ".py",
   "mimetype": "text/x-python",
   "name": "python",
   "nbconvert_exporter": "python",
   "pygments_lexer": "ipython3",
   "version": "3.7.9"
  },
  "orig_nbformat": 4,
  "vscode": {
   "interpreter": {
    "hash": "1c3c7152b532fd28c217869295ba0fbb2b6716303accc13f15426c445bfbdae4"
   }
  }
 },
 "nbformat": 4,
 "nbformat_minor": 2
}
